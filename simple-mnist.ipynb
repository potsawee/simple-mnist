{
 "cells": [
  {
   "cell_type": "code",
   "execution_count": 1,
   "metadata": {},
   "outputs": [],
   "source": [
    "import os\n",
    "import numpy as np\n",
    "import tensorflow as tf\n",
    "\n",
    "# Settting\n",
    "os.environ['CUDA_VISIBLE_DEVICES'] = '' # choose the device (GPU) here\n",
    "sess_config = tf.ConfigProto(allow_soft_placement=True)\n",
    "sess_config.gpu_options.allow_growth = True # Whether the GPU memory usage can grow dynamically."
   ]
  },
  {
   "cell_type": "code",
   "execution_count": 2,
   "metadata": {},
   "outputs": [],
   "source": [
    "from matplotlib.pyplot import imshow\n",
    "%matplotlib inline"
   ]
  },
  {
   "cell_type": "markdown",
   "metadata": {},
   "source": [
    "# Load data"
   ]
  },
  {
   "cell_type": "code",
   "execution_count": 3,
   "metadata": {},
   "outputs": [],
   "source": [
    "# training and dev sets\n",
    "with open('data/train.csv', 'r') as file:\n",
    "    lines = file.readlines()\n",
    "num = len(lines) - 1\n",
    "x = np.zeros(shape=(num,784))\n",
    "y = np.zeros(shape=(num))\n",
    "\n",
    "lines = lines[1:] # ignore pixel0, pixel1,...\n",
    "np.random.shuffle(lines)\n",
    "\n",
    "for i, line in enumerate(lines[1:]):\n",
    "    items = line.strip().split(',')\n",
    "    y[i] = int(items[0])\n",
    "    for j, val in enumerate(items[1:]):\n",
    "        x[i,j] = int(val)\n",
    "        \n",
    "x_train = x[:40000]\n",
    "y_train = y[:40000]\n",
    "x_dev = x[40000:]\n",
    "y_dev = y[40000:]"
   ]
  },
  {
   "cell_type": "code",
   "execution_count": 4,
   "metadata": {},
   "outputs": [
    {
     "name": "stdout",
     "output_type": "stream",
     "text": [
      "40000\n",
      "40000\n",
      "2000\n",
      "2000\n"
     ]
    }
   ],
   "source": [
    "print(len(x_train))\n",
    "print(len(y_train))\n",
    "print(len(x_dev))\n",
    "print(len(y_dev))"
   ]
  },
  {
   "cell_type": "code",
   "execution_count": 5,
   "metadata": {},
   "outputs": [
    {
     "name": "stdout",
     "output_type": "stream",
     "text": [
      "28000\n"
     ]
    }
   ],
   "source": [
    "# test set\n",
    "with open('data/test.csv', 'r') as file:\n",
    "    lines = file.readlines()\n",
    "num = len(lines) - 1\n",
    "x_test = np.zeros(shape=(num,784))\n",
    "for i, line in enumerate(lines[1:]):\n",
    "    items = line.strip().split(',')\n",
    "    for j, val in enumerate(items):\n",
    "        x_test[i,j] = int(val)\n",
    "        \n",
    "print(len(x_test))"
   ]
  },
  {
   "cell_type": "code",
   "execution_count": 6,
   "metadata": {},
   "outputs": [
    {
     "name": "stdout",
     "output_type": "stream",
     "text": [
      "label = 7.0\n"
     ]
    },
    {
     "data": {
      "image/png": "[encoded data removed]",
      "text/plain": [
       "<Figure size 432x288 with 1 Axes>"
      ]
     },
     "metadata": {
      "needs_background": "light"
     },
     "output_type": "display_data"
    }
   ],
   "source": [
    "idx = 24\n",
    "imshow(x_train[idx].reshape(28,28))\n",
    "print('label =', y_train[idx])"
   ]
  },
  {
   "cell_type": "markdown",
   "metadata": {},
   "source": [
    "# Neural Networks"
   ]
  },
  {
   "cell_type": "code",
   "execution_count": 11,
   "metadata": {},
   "outputs": [],
   "source": [
    "# Feed-forward neural network\n",
    "def build_ff_model(x):\n",
    "    \n",
    "    W1 = tf.get_variable(\"W1\", [784, 250], initializer=tf.glorot_normal_initializer())\n",
    "    b1 = tf.get_variable(\"b1\", [250], initializer=tf.zeros_initializer())\n",
    "    W2 = tf.get_variable(\"W2\", [250, 10], initializer=tf.glorot_normal_initializer())\n",
    "    b2 = tf.get_variable(\"b2\", [10], initializer=tf.zeros_initializer())\n",
    "\n",
    "    # computation\n",
    "    z1 = tf.matmul(x, W1) + b1\n",
    "    a1 = tf.nn.tanh(z1)\n",
    "\n",
    "    z2 = tf.matmul(a1, W2) + b2\n",
    "    nn_output = tf.nn.softmax(z2)\n",
    "\n",
    "    return nn_output"
   ]
  },
  {
   "cell_type": "code",
   "execution_count": 12,
   "metadata": {},
   "outputs": [],
   "source": [
    "# Convolutional neural network\n",
    "def build_cnn_model(x):\n",
    "    \n",
    "    s = tf.shape(x)\n",
    "    x1 = tf.reshape(x, shape=(s[0], 28, 28, 1))\n",
    "\n",
    "\n",
    "    # Convolutional Layer 1\n",
    "    layer_conv1, weights_conv1 = new_conv_layer(\n",
    "        input=x1, num_input_channels=1, \n",
    "        filter_size=5, num_filters=6, name =\"conv1\")\n",
    "    # RelU layer 1\n",
    "    layer_relu1 = new_relu_layer(layer_conv1, name=\"relu1\")\n",
    "    # Pooling Layer 1\n",
    "    layer_pool1 = new_pool_layer(layer_relu1, name=\"pool1\")\n",
    "\n",
    "    # Convolutional Layer 2\n",
    "    layer_conv2, weights_conv2 = new_conv_layer(\n",
    "        input=layer_pool1, num_input_channels=6, \n",
    "        filter_size=5, num_filters=16, name= \"conv2\")\n",
    "    # RelU layer 2\n",
    "    layer_relu2 = new_relu_layer(layer_conv2, name=\"relu2\")\n",
    "    # Pooling Layer 2\n",
    "    layer_pool2 = new_pool_layer(layer_relu2, name=\"pool2\")\n",
    "\n",
    "\n",
    "    # Flatten Layer\n",
    "    num_features = layer_pool2.get_shape()[1:4].num_elements()\n",
    "    layer_flat = tf.reshape(layer_pool2, [-1, num_features])\n",
    "\n",
    "    # Fully-Connected Layer 1\n",
    "    layer_fc1 = new_fc_layer(layer_flat, num_inputs=num_features, num_outputs=128, name=\"fc1\")\n",
    "\n",
    "    # RelU layer 3\n",
    "    layer_relu3 = new_relu_layer(layer_fc1, name=\"relu3\")\n",
    "\n",
    "    # Fully-Connected Layer 2\n",
    "    layer_fc2 = new_fc_layer(input=layer_relu3, num_inputs=128, num_outputs=10, name=\"fc2\")\n",
    "\n",
    "    # Softmax\n",
    "    nn_output = tf.nn.softmax(layer_fc2)\n",
    "    \n",
    "    return nn_output"
   ]
  },
  {
   "cell_type": "markdown",
   "metadata": {},
   "source": [
    "# Experiments"
   ]
  },
  {
   "cell_type": "code",
   "execution_count": 17,
   "metadata": {
    "scrolled": true
   },
   "outputs": [],
   "source": [
    "def experiment(build_nn_model, batch_size, num_epochs):\n",
    "    tf.reset_default_graph()\n",
    "\n",
    "    x = tf.placeholder(tf.float32, [None, 784], name=\"x\")\n",
    "    y = tf.placeholder(tf.int32, [None], name=\"y\")\n",
    "\n",
    "    nn_output = build_nn_model(x)\n",
    "\n",
    "    # loss function\n",
    "    onehot = tf.one_hot(y, 10, dtype=tf.float32)\n",
    "    loss = -1.0 * tf.reduce_mean( onehot * tf.log(nn_output) )\n",
    "\n",
    "    # training op\n",
    "    optimizer = tf.train.AdamOptimizer()\n",
    "    train_op = optimizer.minimize(loss)\n",
    "\n",
    "    # evaluation\n",
    "    correct_pred = tf.equal(tf.argmax(nn_output, 1, output_type=tf.int32), y)\n",
    "    accuracy = tf.reduce_mean(tf.cast(correct_pred, tf.float32))\n",
    "\n",
    "\n",
    "#     batch_size = 1024\n",
    "    train_size = len(x_train)\n",
    "\n",
    "    # ---------------------- #\n",
    "    tf.summary.scalar('loss', loss)\n",
    "    tf.summary.scalar('accuracy', accuracy)\n",
    "    summary_op = tf.summary.merge_all()\n",
    "    # ---------------------- #\n",
    "\n",
    "    counter = 0\n",
    "\n",
    "    with tf.Session(config=sess_config) as sess:\n",
    "        # writer\n",
    "        summary_writer = tf.summary.FileWriter('mnist_logs/', graph_def=sess.graph_def)\n",
    "\n",
    "        sess.run(tf.global_variables_initializer())\n",
    "        for epoch in range(num_epochs):\n",
    "            for i in range(int(train_size/batch_size)):\n",
    "                feed_dict = {x: x_train[i*batch_size:(i+1)*batch_size],\n",
    "                             y: y_train[i*batch_size:(i+1)*batch_size]}\n",
    "                train_loss, _ = sess.run([loss, train_op], feed_dict=feed_dict)\n",
    "                if i % 10 == 0:\n",
    "\n",
    "                     # write something\n",
    "                     summary_str = sess.run(summary_op, feed_dict=feed_dict)\n",
    "                     summary_writer.add_summary(summary_str, counter)\n",
    "                     counter += 1\n",
    "\n",
    "            feed_dict = {x: x_dev, y: y_dev}\n",
    "            [acc] = sess.run([accuracy], feed_dict=feed_dict)\n",
    "            print(\"epoch: {} --- accuracy: {}\".format(epoch, acc*100))\n",
    "\n",
    "\n",
    "        feed_dict = {x: x_test}\n",
    "        [outputs] = sess.run([nn_output], feed_dict=feed_dict)\n",
    "        \n",
    "        y_preds = np.argmax(outputs, axis=1)\n",
    "        return y_preds"
   ]
  },
  {
   "cell_type": "code",
   "execution_count": 15,
   "metadata": {
    "scrolled": true
   },
   "outputs": [
    {
     "name": "stdout",
     "output_type": "stream",
     "text": [
      "WARNING:tensorflow:Passing a `GraphDef` to the SummaryWriter is deprecated. Pass a `Graph` object instead, such as `sess.graph`.\n",
      "epoch: 0 --- accuracy: 90.04999995231628\n",
      "epoch: 1 --- accuracy: 90.70000052452087\n",
      "epoch: 2 --- accuracy: 92.40000247955322\n",
      "epoch: 3 --- accuracy: 92.5499975681305\n",
      "epoch: 4 --- accuracy: 93.09999942779541\n",
      "epoch: 5 --- accuracy: 92.84999966621399\n",
      "epoch: 6 --- accuracy: 93.04999709129333\n",
      "epoch: 7 --- accuracy: 93.34999918937683\n",
      "epoch: 8 --- accuracy: 93.4000015258789\n",
      "epoch: 9 --- accuracy: 93.30000281333923\n",
      "epoch: 10 --- accuracy: 93.30000281333923\n",
      "epoch: 11 --- accuracy: 94.45000290870667\n",
      "epoch: 12 --- accuracy: 94.24999952316284\n",
      "epoch: 13 --- accuracy: 93.90000104904175\n",
      "epoch: 14 --- accuracy: 94.24999952316284\n",
      "epoch: 15 --- accuracy: 94.15000081062317\n",
      "epoch: 16 --- accuracy: 93.99999976158142\n",
      "epoch: 17 --- accuracy: 94.15000081062317\n",
      "epoch: 18 --- accuracy: 94.49999928474426\n",
      "epoch: 19 --- accuracy: 93.80000233650208\n"
     ]
    }
   ],
   "source": [
    "y_ff_preds = experiment(build_ff_model, batch_size=512, num_epochs=20)"
   ]
  },
  {
   "cell_type": "code",
   "execution_count": 14,
   "metadata": {
    "scrolled": true
   },
   "outputs": [
    {
     "name": "stdout",
     "output_type": "stream",
     "text": [
      "WARNING:tensorflow:Passing a `GraphDef` to the SummaryWriter is deprecated. Pass a `Graph` object instead, such as `sess.graph`.\n",
      "epoch: 0 --- accuracy: 93.84999871253967\n",
      "epoch: 1 --- accuracy: 96.29999995231628\n",
      "epoch: 2 --- accuracy: 96.8999981880188\n",
      "epoch: 3 --- accuracy: 97.45000004768372\n",
      "epoch: 4 --- accuracy: 97.60000109672546\n",
      "epoch: 5 --- accuracy: 97.75000214576721\n",
      "epoch: 6 --- accuracy: 97.85000085830688\n",
      "epoch: 7 --- accuracy: 98.00000190734863\n",
      "epoch: 8 --- accuracy: 98.19999933242798\n",
      "epoch: 9 --- accuracy: 98.04999828338623\n",
      "epoch: 10 --- accuracy: 97.89999723434448\n",
      "epoch: 11 --- accuracy: 97.75000214576721\n",
      "epoch: 12 --- accuracy: 98.00000190734863\n",
      "epoch: 13 --- accuracy: 97.89999723434448\n",
      "epoch: 14 --- accuracy: 98.19999933242798\n",
      "epoch: 15 --- accuracy: 98.1000006198883\n",
      "epoch: 16 --- accuracy: 98.1000006198883\n",
      "epoch: 17 --- accuracy: 98.29999804496765\n",
      "epoch: 18 --- accuracy: 98.25000166893005\n",
      "epoch: 19 --- accuracy: 9.449999779462814\n"
     ]
    }
   ],
   "source": [
    "y_cnn_preds = experiment(build_cnn_model, batch_size=512, num_epochs=20)"
   ]
  },
  {
   "cell_type": "code",
   "execution_count": 16,
   "metadata": {},
   "outputs": [
    {
     "ename": "TypeError",
     "evalue": "'NoneType' object is not subscriptable",
     "output_type": "error",
     "traceback": [
      "\u001b[0;31m---------------------------------------------------------------------------\u001b[0m",
      "\u001b[0;31mTypeError\u001b[0m                                 Traceback (most recent call last)",
      "\u001b[0;32m<ipython-input-16-0913f5df28d6>\u001b[0m in \u001b[0;36m<module>\u001b[0;34m\u001b[0m\n\u001b[1;32m      1\u001b[0m \u001b[0midx\u001b[0m \u001b[0;34m=\u001b[0m \u001b[0;36m88\u001b[0m\u001b[0;34m\u001b[0m\u001b[0;34m\u001b[0m\u001b[0m\n\u001b[1;32m      2\u001b[0m \u001b[0mimshow\u001b[0m\u001b[0;34m(\u001b[0m\u001b[0mx_test\u001b[0m\u001b[0;34m[\u001b[0m\u001b[0midx\u001b[0m\u001b[0;34m]\u001b[0m\u001b[0;34m.\u001b[0m\u001b[0mreshape\u001b[0m\u001b[0;34m(\u001b[0m\u001b[0;36m28\u001b[0m\u001b[0;34m,\u001b[0m\u001b[0;36m28\u001b[0m\u001b[0;34m)\u001b[0m\u001b[0;34m)\u001b[0m\u001b[0;34m\u001b[0m\u001b[0;34m\u001b[0m\u001b[0m\n\u001b[0;32m----> 3\u001b[0;31m \u001b[0mprint\u001b[0m\u001b[0;34m(\u001b[0m\u001b[0;34m'label ='\u001b[0m\u001b[0;34m,\u001b[0m \u001b[0my_cnn_preds\u001b[0m\u001b[0;34m[\u001b[0m\u001b[0midx\u001b[0m\u001b[0;34m]\u001b[0m\u001b[0;34m)\u001b[0m\u001b[0;34m\u001b[0m\u001b[0;34m\u001b[0m\u001b[0m\n\u001b[0m",
      "\u001b[0;31mTypeError\u001b[0m: 'NoneType' object is not subscriptable"
     ]
    },
    {
     "data": {
      "image/png": "[encoded data removed]",
      "text/plain": [
       "<Figure size 432x288 with 1 Axes>"
      ]
     },
     "metadata": {
      "needs_background": "light"
     },
     "output_type": "display_data"
    }
   ],
   "source": [
    "idx = 88\n",
    "imshow(x_test[idx].reshape(28,28))\n",
    "print('label =', y_cnn_preds[idx])"
   ]
  },
  {
   "cell_type": "markdown",
   "metadata": {},
   "source": [
    "# Utils: CNN definition\n",
    "credit: https://medium.com/data-science-group-iitr/building-a-convolutional-neural-network-in-python-with-tensorflow-d251c3ca8117"
   ]
  },
  {
   "cell_type": "code",
   "execution_count": 7,
   "metadata": {},
   "outputs": [],
   "source": [
    "def new_conv_layer(input, num_input_channels, filter_size, num_filters, name):\n",
    "    with tf.variable_scope(name) as scope:\n",
    "        # shape of the filter-weights for the convolution\n",
    "        shape = [filter_size, filter_size, num_input_channels, num_filters]\n",
    "\n",
    "        # Create new weights (filters) with the given shape\n",
    "        weights = tf.Variable(tf.truncated_normal(shape, stddev=0.05))\n",
    "\n",
    "        # Create new biases, one for each filter\n",
    "        biases = tf.Variable(tf.constant(0.05, shape=[num_filters]))\n",
    "\n",
    "        # TensorFlow operation for convolution\n",
    "        layer = tf.nn.conv2d(input=input, filter=weights, strides=[1, 1, 1, 1], padding='SAME')\n",
    "\n",
    "        # Add the biases to the results of the convolution.\n",
    "        layer += biases\n",
    "        \n",
    "        return layer, weights"
   ]
  },
  {
   "cell_type": "code",
   "execution_count": 8,
   "metadata": {},
   "outputs": [],
   "source": [
    "def new_relu_layer(input, name):\n",
    "    \n",
    "    with tf.variable_scope(name) as scope:\n",
    "        # TensorFlow operation for convolution\n",
    "        layer = tf.nn.relu(input)\n",
    "        \n",
    "        return layer"
   ]
  },
  {
   "cell_type": "code",
   "execution_count": 9,
   "metadata": {},
   "outputs": [],
   "source": [
    "def new_pool_layer(input, name):\n",
    "    \n",
    "    with tf.variable_scope(name) as scope:\n",
    "        # TensorFlow operation for convolution\n",
    "        layer = tf.nn.max_pool(value=input, ksize=[1, 2, 2, 1], strides=[1, 2, 2, 1], padding='SAME')\n",
    "        return layer"
   ]
  },
  {
   "cell_type": "code",
   "execution_count": 10,
   "metadata": {},
   "outputs": [],
   "source": [
    "def new_fc_layer(input, num_inputs, num_outputs, name):\n",
    "    \n",
    "    with tf.variable_scope(name) as scope:\n",
    "\n",
    "        # Create new weights and biases.\n",
    "        weights = tf.Variable(tf.truncated_normal([num_inputs, num_outputs], stddev=0.05))\n",
    "        biases = tf.Variable(tf.constant(0.05, shape=[num_outputs]))\n",
    "        \n",
    "        # Multiply the input and weights, and then add the bias-values.\n",
    "        layer = tf.matmul(input, weights) + biases\n",
    "        \n",
    "        return layer"
   ]
  },
  {
   "cell_type": "code",
   "execution_count": null,
   "metadata": {},
   "outputs": [],
   "source": []
  }
 ],
 "metadata": {
  "kernelspec": {
   "display_name": "Python 3",
   "language": "python",
   "name": "python3"
  },
  "language_info": {
   "codemirror_mode": {
    "name": "ipython",
    "version": 3
   },
   "file_extension": ".py",
   "mimetype": "text/x-python",
   "name": "python",
   "nbconvert_exporter": "python",
   "pygments_lexer": "ipython3",
   "version": "3.6.7"
  }
 },
 "nbformat": 4,
 "nbformat_minor": 2
}
